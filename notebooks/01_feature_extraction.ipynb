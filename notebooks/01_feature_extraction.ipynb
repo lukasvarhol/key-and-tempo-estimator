{
 "cells": [
  {
   "cell_type": "code",
   "execution_count": null,
   "id": "475ec478",
   "metadata": {},
   "outputs": [
    {
     "name": "stdout",
     "output_type": "stream",
     "text": [
      "                                                         \r"
     ]
    },
    {
     "name": "stderr",
     "output_type": "stream",
     "text": [
      "INFO:__main__:Successfully fetched audio for CMYK by ear\n"
     ]
    },
    {
     "name": "stdout",
     "output_type": "stream",
     "text": [
      "Audio shape: (1323000,), Type: float32\n"
     ]
    }
   ],
   "source": [
    "import os\n",
    "from dotenv import load_dotenv\n",
    "import spotipy\n",
    "from spotipy.oauth2 import SpotifyClientCredentials\n",
    "import yt_dlp\n",
    "import librosa\n",
    "import numpy as np\n",
    "import logging\n",
    "\n",
    "# Setup basic logging\n",
    "logging.basicConfig(level=logging.INFO)\n",
    "logger = logging.getLogger(__name__)\n",
    "\n",
    "load_dotenv()\n",
    "\n",
    "def get_audio_array(track_id, duration=30, sr=44100):\n",
    "    \"\"\"\n",
    "    Get audio as numpy array from Spotify track ID using YouTube.\n",
    "    \n",
    "    Args:\n",
    "        track_id: Spotify track ID\n",
    "        duration: Duration in seconds (default 30)\n",
    "        sr: Sample rate (default 22050 Hz)\n",
    "    \n",
    "    Returns:\n",
    "        numpy array of audio samples, or None if failed\n",
    "    \"\"\"\n",
    "    # Initialize Spotify client\n",
    "    try:\n",
    "        auth_manager = SpotifyClientCredentials(\n",
    "            client_id=os.getenv(\"SPOTIFY_CLIENT_ID\"),\n",
    "            client_secret=os.getenv(\"SPOTIFY_CLIENT_SECRET\")\n",
    "        )\n",
    "        sp = spotipy.Spotify(auth_manager=auth_manager)\n",
    "        \n",
    "        # Get track info from Spotify\n",
    "        track = sp.track(track_id)\n",
    "        track_name = track['name']\n",
    "        artist_name = track['artists'][0]['name']\n",
    "    except Exception as e:\n",
    "        logger.error(f\"Error fetching Spotify track {track_id}: {e}\")\n",
    "        return None\n",
    "    \n",
    "    # YouTube download options\n",
    "    ydl_opts = {\n",
    "        'format': 'bestaudio/best',\n",
    "        'outtmpl': 'temp_audio.%(ext)s',\n",
    "        'quiet': True,\n",
    "        'postprocessors': [{\n",
    "            'key': 'FFmpegExtractAudio',\n",
    "            'preferredcodec': 'wav',\n",
    "        }],\n",
    "    }\n",
    "    \n",
    "    # Download audio from YouTube\n",
    "    search_query = f\"{track_name} {artist_name} official audio\"\n",
    "    try:\n",
    "        with yt_dlp.YoutubeDL(ydl_opts) as ydl:\n",
    "            ydl.extract_info(f\"ytsearch1:{search_query}\", download=True)\n",
    "        \n",
    "        # Load audio to numpy array\n",
    "        audio, _ = librosa.load('temp_audio.wav', duration=duration, sr=sr, mono=True)\n",
    "        \n",
    "        # Clean up temp file\n",
    "        # try:\n",
    "        #     os.remove('temp_audio.wav')\n",
    "        # except:\n",
    "        #     pass\n",
    "            \n",
    "        logger.info(f\"Successfully fetched audio for {track_name} by {artist_name}\")\n",
    "        return audio\n",
    "        \n",
    "    except Exception as e:\n",
    "        logger.error(f\"Error downloading audio for {track_id}: {e}\")\n",
    "        try:\n",
    "            os.remove('temp_audio.wav')\n",
    "        except:\n",
    "            pass\n",
    "        return None\n",
    "\n",
    "# Example usage\n",
    "if __name__ == \"__main__\":\n",
    "    track_id = \"2ChOqzPoYF5je9mfXtJrkW\"  # Example Spotify track ID: CMYK by Ear\n",
    "    audio = get_audio_array(track_id)\n",
    "    if audio is not None:\n",
    "        print(f\"Audio shape: {audio.shape}, Type: {audio.dtype}\")\n",
    "\n",
    "\n"
   ]
  },
  {
   "cell_type": "code",
   "execution_count": null,
   "id": "2f1d8bb1",
   "metadata": {},
   "outputs": [
    {
     "ename": "",
     "evalue": "",
     "output_type": "error",
     "traceback": [
      "\u001b[1;31mnotebook controller is DISPOSED. \n",
      "\u001b[1;31mView Jupyter <a href='command:jupyter.viewOutput'>log</a> for further details."
     ]
    }
   ],
   "source": []
  }
 ],
 "metadata": {
  "kernelspec": {
   "display_name": "venv (3.13.2)",
   "language": "python",
   "name": "python3"
  },
  "language_info": {
   "codemirror_mode": {
    "name": "ipython",
    "version": 3
   },
   "file_extension": ".py",
   "mimetype": "text/x-python",
   "name": "python",
   "nbconvert_exporter": "python",
   "pygments_lexer": "ipython3",
   "version": "3.13.2"
  }
 },
 "nbformat": 4,
 "nbformat_minor": 5
}
